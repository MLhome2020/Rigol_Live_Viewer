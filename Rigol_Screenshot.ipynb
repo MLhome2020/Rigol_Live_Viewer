{
 "cells": [
  {
   "cell_type": "code",
   "execution_count": 3,
   "metadata": {},
   "outputs": [
    {
     "name": "stdout",
     "output_type": "stream",
     "text": [
      "Successfull connected by PyVISA with TCPIP0::192.168.1.23::inst0::INSTR\n"
     ]
    }
   ],
   "source": [
    "import pyvisa           #pip install pyvisa\n",
    "import time\n",
    "import sys\n",
    "import io\n",
    "from PIL import Image\n",
    "\n",
    "ADR = \"TCPIP0::192.168.1.23::inst0::INSTR\"\n",
    "rm = pyvisa.ResourceManager()\n",
    "try:\n",
    "    scope = rm.open_resource(ADR, timeout=30000)\n",
    "    print(f\"Successfull connected by PyVISA with {ADR}\")\n",
    "except pyvisa.VisaIOError:\n",
    "    print(\"Connect fail!\")"
   ]
  },
  {
   "cell_type": "code",
   "execution_count": 5,
   "metadata": {},
   "outputs": [
    {
     "name": "stdout",
     "output_type": "stream",
     "text": [
      "RIGOL TECHNOLOGIES,DS2302,DS2A153502286,BB028400C1020000C20200400F0F0F0F0F0F4F0F0F1F0F0F0D0F0F0F0F0F0F0F0F0F0B0B1F0F0F0F0F0F0F0F2F0F0F0F0D0F0F0F0F0F0F0F0D0F0F0F0E0F0F0F0F0F0F0F0F0F0F0F0F0F0F0F0F0F0F0F0F0F0F0F0F0E0F8F0F0F0F0F0F0F0B0F2F1E0F0F0F0F0F1F2F0F4F0F0F0F0F0F0F0F0F0F1F0F0F0F2F3F0F0F1F0F070F0F2F070F\n",
      "\n",
      "-113,\"Undefined header; keyword cannot be found\"\n",
      "\n"
     ]
    }
   ],
   "source": [
    "Status = scope.query(\":*IDN?\")\n",
    "print(Status)\n",
    "\n",
    "scope_error = scope.query(\":SYSTem:ERRor?\")\n",
    "print(scope_error)\n"
   ]
  },
  {
   "cell_type": "code",
   "execution_count": 6,
   "metadata": {},
   "outputs": [],
   "source": [
    "file_name = \"New_Screen.png\"\n",
    "\n",
    "bmp_bin = scope.query_binary_values(':DISP:DATA?', datatype='B', container=bytes)\n",
    "img = Image.open(io.BytesIO(bmp_bin))\n",
    "img.save(file_name)"
   ]
  }
 ],
 "metadata": {
  "kernelspec": {
   "display_name": "venv311_64",
   "language": "python",
   "name": "python3"
  },
  "language_info": {
   "codemirror_mode": {
    "name": "ipython",
    "version": 3
   },
   "file_extension": ".py",
   "mimetype": "text/x-python",
   "name": "python",
   "nbconvert_exporter": "python",
   "pygments_lexer": "ipython3",
   "version": "3.11.3"
  }
 },
 "nbformat": 4,
 "nbformat_minor": 2
}
